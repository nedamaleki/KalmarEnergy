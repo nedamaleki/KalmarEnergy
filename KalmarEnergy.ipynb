{
 "cells": [
  {
   "cell_type": "code",
   "execution_count": null,
   "metadata": {},
   "outputs": [],
   "source": [
    "import pandas as pd\n",
    "import matplotlib.pyplot as plt"
   ]
  },
  {
   "cell_type": "code",
   "execution_count": null,
   "metadata": {},
   "outputs": [],
   "source": [
    "path='/Users/nemaaa/github/jupyterNotes/KE.csv'\n",
    "#col_names = [\"CUSTOMER\", \"AREA\", \"DATE\", \"HOUR_0\", \"HOUR_1\", \"HOUR_2\", \"HOUR_3\", \"HOUR_4\", \"HOUR_5\", \"HOUR_6\", \"HOUR_7\", \"HOUR_8\", \"HOUR_9\", \"HOUR_10\", \"HOUR_11\", \"HOUR_12\", \"HOUR_13\",\"HOUR_14\", \"HOUR_15\", \"HOUR_16\", \"HOUR_17\", \"HOUR_18\", \"HOUR_19\", \"HOUR_20\", \"HOUR_21\", \"HOUR_22\", \"HOUR_23\"] \n",
    "df=pd.read_csv(path, sep=';', decimal=',',lineterminator='\\n')"
   ]
  },
  {
   "cell_type": "markdown",
   "metadata": {},
   "source": [
    "KEEP IN MIND, AFTER EACH DROP YOU NEED TO USE RESET INDEX COMMAND"
   ]
  },
  {
   "cell_type": "code",
   "execution_count": null,
   "metadata": {},
   "outputs": [],
   "source": [
    "df.shape"
   ]
  },
  {
   "cell_type": "code",
   "execution_count": null,
   "metadata": {},
   "outputs": [],
   "source": [
    "df"
   ]
  },
  {
   "cell_type": "code",
   "execution_count": null,
   "metadata": {},
   "outputs": [],
   "source": [
    "df=df.dropna()"
   ]
  },
  {
   "cell_type": "code",
   "execution_count": null,
   "metadata": {},
   "outputs": [],
   "source": [
    "df.shape"
   ]
  },
  {
   "cell_type": "code",
   "execution_count": null,
   "metadata": {},
   "outputs": [],
   "source": [
    "df "
   ]
  },
  {
   "cell_type": "code",
   "execution_count": null,
   "metadata": {},
   "outputs": [],
   "source": [
    "df_332732 = df.reset_index()"
   ]
  },
  {
   "cell_type": "code",
   "execution_count": null,
   "metadata": {},
   "outputs": [],
   "source": [
    "df_332732"
   ]
  },
  {
   "cell_type": "code",
   "execution_count": null,
   "metadata": {},
   "outputs": [],
   "source": [
    "delete_indices80 = df_332732[df_332732.One_Day_Power > 80].index\n",
    "df_332732.drop(delete_indices80, inplace=True)"
   ]
  },
  {
   "cell_type": "code",
   "execution_count": null,
   "metadata": {},
   "outputs": [],
   "source": [
    "df_332732.shape  #new shape of df_332732"
   ]
  },
  {
   "cell_type": "code",
   "execution_count": null,
   "metadata": {},
   "outputs": [],
   "source": [
    "df_331995 = df_332732.reset_index()"
   ]
  },
  {
   "cell_type": "code",
   "execution_count": null,
   "metadata": {},
   "outputs": [],
   "source": [
    "df_331995 #main df (after removing nulls and greater than 80) -- 331995 rows"
   ]
  },
  {
   "cell_type": "code",
   "execution_count": null,
   "metadata": {},
   "outputs": [],
   "source": [
    "#Find the customers --AREA for each customer is the same, so it does not matter to filter on AREA also, maybe better\n",
    "df_cust = df_331995.copy()\n",
    "df_cust.drop_duplicates(subset = [\"CUSTOMER\",\"AREA\"],\n",
    "                           keep = 'first', inplace = True)                                         \n",
    "df_cust"
   ]
  },
  {
   "cell_type": "code",
   "execution_count": null,
   "metadata": {},
   "outputs": [],
   "source": [
    "df_cust_1038 = df_cust.reset_index(drop=True)   # after two droppig, each time one new index is added (index , level_0). So for third time and more we need to use the command df.reset_index(drop=True, inplace=True)"
   ]
  },
  {
   "cell_type": "code",
   "execution_count": null,
   "metadata": {},
   "outputs": [],
   "source": [
    "df_cust_1038"
   ]
  },
  {
   "cell_type": "code",
   "execution_count": null,
   "metadata": {},
   "outputs": [],
   "source": [
    "df_customer=df_cust_1038.iloc[: , 0:4]\n",
    "df_customer"
   ]
  },
  {
   "cell_type": "code",
   "execution_count": null,
   "metadata": {},
   "outputs": [],
   "source": [
    "df_cust_id = df_customer.loc[df_customer['CUSTOMER']==1060598736]\n",
    "df_cust_id"
   ]
  },
  {
   "cell_type": "code",
   "execution_count": null,
   "metadata": {},
   "outputs": [],
   "source": [
    "#for cust_id in cust_id_list:  --> cust_id_list is a df (and not list) so we need: in range and len\n",
    "    #print(cust_id)"
   ]
  },
  {
   "cell_type": "code",
   "execution_count": null,
   "metadata": {},
   "outputs": [],
   "source": [
    "len(df_customer)"
   ]
  },
  {
   "cell_type": "code",
   "execution_count": null,
   "metadata": {},
   "outputs": [],
   "source": [
    "df_customer"
   ]
  },
  {
   "cell_type": "code",
   "execution_count": null,
   "metadata": {},
   "outputs": [],
   "source": [
    "for cust_id in range(0,len(df_customer)):\n",
    "    print(df_customer['CUSTOMER'][cust_id])\n",
    "    df_current_cust = df_customer.loc[df_customer['CUSTOMER']==df_customer['CUSTOMER'][cust_id]]\n",
    "    print(df_current_cust)"
   ]
  },
  {
   "cell_type": "code",
   "execution_count": null,
   "metadata": {},
   "outputs": [],
   "source": [
    "df_current_cust = df_customer.loc[df_customer['CUSTOMER']==cust_id]  #it was empty because it is a frame and you should use df_customer['CUSTOMER'][cust_id] at right side\n",
    "df_current_cust"
   ]
  },
  {
   "cell_type": "code",
   "execution_count": null,
   "metadata": {},
   "outputs": [],
   "source": [
    "print(df_customer.loc[df_customer['CUSTOMER']== 1060598736])"
   ]
  },
  {
   "cell_type": "code",
   "execution_count": null,
   "metadata": {},
   "outputs": [],
   "source": [
    "df_customer['CUSTOMER']==1060598755"
   ]
  },
  {
   "cell_type": "code",
   "execution_count": null,
   "metadata": {},
   "outputs": [],
   "source": [
    "print(df_current_cust['CUSTOMER'])"
   ]
  },
  {
   "cell_type": "code",
   "execution_count": null,
   "metadata": {},
   "outputs": [],
   "source": [
    "print(df_current_cust['AREA'])"
   ]
  },
  {
   "cell_type": "code",
   "execution_count": null,
   "metadata": {},
   "outputs": [],
   "source": [
    "class Date_hour():\n",
    "    def __init__(self, date, h0, h1, h2, h3, h4, h5, h6, h7, h8, h9, h10, h11, h12, h13, h14, h15, h16, h17, h18, h19, h20, h21, h22, h23 ):\n",
    "        self.date = date\n",
    "        self.h0 = h0\n",
    "        self.h1 = h1\n",
    "        self.h2 = h2\n",
    "        self.h3 = h3\n",
    "        self.h4 = h4\n",
    "        self.h5 = h5\n",
    "        self.h6 = h6\n",
    "        self.h7 = h7\n",
    "        self.h8 = h8\n",
    "        self.h9 = h9\n",
    "        self.h10 = h10\n",
    "        self.h11 = h11\n",
    "        self.h12 = h12\n",
    "        self.h13 = h13\n",
    "        self.h14 = h14\n",
    "        self.h15 = h15\n",
    "        self.h16 = h16\n",
    "        self.h17 = h17\n",
    "        self.h18 = h18\n",
    "        self.h19 = h19\n",
    "        self.h20 = h20\n",
    "        self.h21 = h21\n",
    "        self.h22 = h22\n",
    "        self.h23 = h23\n",
    "    \n",
    "        \n",
    "class Customer():\n",
    "    def __init__(self, cust_id, area):\n",
    "        self.customer_id = cust_id\n",
    "        self.area = area\n",
    "        self.days_hours_list= []\n",
    "        \n",
    "    \n",
    "    \n",
    "def main():\n",
    "    print(\"Start .....\")\n",
    "\n",
    "    \n",
    "    global customer_list\n",
    "    customer_list = []\n",
    "    \n",
    "    for indx in df_cust_1038.index:\n",
    "          \n",
    "        #current_customer_all_data = df_331995[(df_331995.CUSTOMER == df_cust_1038['CUSTOMER'][indx])] #This command also works like the following command\n",
    "        #print(current_customer_all_data) \n",
    "        current_customer_all_data = df_331995.loc[(df_331995.CUSTOMER == df_cust_1038['CUSTOMER'][indx])]\n",
    "        #print(current_customer_all_data) \n",
    "        customer = Customer(df_cust_1038['CUSTOMER'][indx], df_cust_1038['AREA'][indx])\n",
    "\n",
    "        for indx2 in current_customer_all_data.index:  \n",
    "\n",
    "          #print(current_customer_all_data['DATE'][indx2]) \n",
    "          #day_hours = Date_hour (current_customer_all_data['DATE'][indx2],0,0,0,0,0,0,0,0,0,0,0,0,0,0,0,0,0,0,0,0,0,0,0,0)\n",
    "          day_hours = Date_hour (current_customer_all_data['DATE'][indx2],current_customer_all_data['HOUR_0'][indx2],current_customer_all_data['HOUR_1'][indx2],current_customer_all_data['HOUR_2'][indx2],current_customer_all_data['HOUR_3'][indx2],current_customer_all_data['HOUR_4'][indx2],current_customer_all_data['HOUR_5'][indx2],current_customer_all_data['HOUR_6'][indx2],current_customer_all_data['HOUR_7'][indx2],current_customer_all_data['HOUR_8'][indx2],current_customer_all_data['HOUR_9'][indx2],current_customer_all_data['HOUR_10'][indx2],current_customer_all_data['HOUR_11'][indx2],current_customer_all_data['HOUR_12'][indx2],current_customer_all_data['HOUR_13'][indx2],current_customer_all_data['HOUR_14'][indx2],current_customer_all_data['HOUR_15'][indx2],current_customer_all_data['HOUR_16'][indx2],current_customer_all_data['HOUR_17'][indx2],current_customer_all_data['HOUR_18'][indx2],current_customer_all_data['HOUR_19'][indx2],current_customer_all_data['HOUR_20'][indx2],current_customer_all_data['HOUR_21'][indx2],current_customer_all_data['HOUR_22'][indx2],current_customer_all_data['HOUR_23'][indx2])\n",
    "          customer.days_hours_list.append(day_hours)\n",
    "\n",
    "        customer_list.append(customer)\n",
    "\n",
    "\n",
    "    for customer in customer_list:\n",
    "      print (f\"Customer: {customer.customer_id,customer.area }\")\n",
    "      for day_hour in customer.days_hours_list:\n",
    "        print(f\"day_hour of Customer {customer.customer_id} is: {day_hour.date, day_hour.h0, day_hour.h1, day_hour.h2, day_hour.h3, day_hour.h4, day_hour.h5, day_hour.h6, day_hour.h7, day_hour.h8, day_hour.h9, day_hour.h10, day_hour.h11, day_hour.h12, day_hour.h13, day_hour.h14, day_hour.h15, day_hour.h16, day_hour.h17, day_hour.h18, day_hour.h19, day_hour.h20, day_hour.h21, day_hour.h22, day_hour.h23}\")\n",
    "\n",
    "\n",
    "\n",
    "    print(\"finished\")\n",
    "\n",
    "    \n",
    "\n",
    "if __name__ == \"__main__\":\n",
    "    main()\n"
   ]
  },
  {
   "cell_type": "code",
   "execution_count": null,
   "metadata": {},
   "outputs": [],
   "source": [
    "%who"
   ]
  },
  {
   "cell_type": "code",
   "execution_count": null,
   "metadata": {},
   "outputs": [],
   "source": [
    "#https://stackoverflow.com/questions/34997174/how-to-convert-list-of-model-objects-to-pandas-dataframe\n",
    "#Convert list to dictionary(dataframe) to play with it in a more suitable way\n",
    "#pd.DataFrame([vars(c) for c in customer_list]) or pd.DataFrame([c.__dict__ for c in customer_list ])"
   ]
  },
  {
   "cell_type": "code",
   "execution_count": null,
   "metadata": {},
   "outputs": [],
   "source": [
    "#print([list(c.customer_id for c in customer_list)])"
   ]
  },
  {
   "cell_type": "code",
   "execution_count": null,
   "metadata": {},
   "outputs": [],
   "source": [
    "# fill dataframe with one row per object, one attribute per column\n",
    "df_structured_customers = pd.DataFrame([c.__dict__ for c in customer_list ])\n",
    "#df_structured_customers = pd.DataFrame([customer_list ])\n",
    "df_structured_customers"
   ]
  },
  {
   "cell_type": "code",
   "execution_count": null,
   "metadata": {},
   "outputs": [],
   "source": [
    "type(df_structured_customers)"
   ]
  },
  {
   "cell_type": "code",
   "execution_count": null,
   "metadata": {},
   "outputs": [],
   "source": [
    "df_structured_customers.info()"
   ]
  },
  {
   "cell_type": "code",
   "execution_count": null,
   "metadata": {},
   "outputs": [],
   "source": [
    "#for i, row in df_structured_customers.iterrows():\n",
    "plt.plot(\"customer_id\", \"area\", data=df_structured_customers)"
   ]
  }
 ],
 "metadata": {
  "interpreter": {
   "hash": "31f2aee4e71d21fbe5cf8b01ff0e069b9275f58929596ceb00d14d90e3e16cd6"
  },
  "kernelspec": {
   "display_name": "Python 3.9.6 64-bit",
   "language": "python",
   "name": "python3"
  },
  "language_info": {
   "codemirror_mode": {
    "name": "ipython",
    "version": 3
   },
   "file_extension": ".py",
   "mimetype": "text/x-python",
   "name": "python",
   "nbconvert_exporter": "python",
   "pygments_lexer": "ipython3",
   "version": "3.9.6"
  },
  "orig_nbformat": 4
 },
 "nbformat": 4,
 "nbformat_minor": 2
}
